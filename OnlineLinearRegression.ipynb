{
 "cells": [
  {
   "cell_type": "code",
   "execution_count": 1,
   "metadata": {},
   "outputs": [],
   "source": [
    "import numpy as np\n",
    "import matplotlib.pyplot as plt\n",
    "import pandas as pd\n",
    "from sklearn.linear_model import LinearRegression\n",
    "from sklearn.metrics import mean_squared_error"
   ]
  },
  {
   "cell_type": "code",
   "execution_count": 2,
   "metadata": {},
   "outputs": [
    {
     "name": "stdout",
     "output_type": "stream",
     "text": [
      "[ 1  2  3  4  5  6  7  8  9 10] [  1   2   3   4   5   6   7   8   9 100]\n"
     ]
    }
   ],
   "source": [
    "data_arr = [(1,1),(2,2),(3,3),(4,4),(5,5),(6,6),(7,7),(8,8),(9,9),(10,100)]\n",
    "data = np.array(data_arr)\n",
    "print(data[:,0],data[:,1])"
   ]
  },
  {
   "cell_type": "code",
   "execution_count": 3,
   "metadata": {},
   "outputs": [
    {
     "data": {
      "text/plain": [
       "530.1818181818182"
      ]
     },
     "execution_count": 3,
     "metadata": {},
     "output_type": "execute_result"
    }
   ],
   "source": [
    "model = LinearRegression().fit(X=data[:,0].reshape(-1, 1),y=data[:,1].reshape(-1, 1))\n",
    "mean_squared_error(model.predict(X=data[:,0].reshape(-1, 1)), data[:,1].reshape(-1, 1))"
   ]
  },
  {
   "cell_type": "code",
   "execution_count": 4,
   "metadata": {},
   "outputs": [
    {
     "name": "stdout",
     "output_type": "stream",
     "text": [
      "math\n",
      "m = 5.909090909090909 \n",
      "b = -18.0 \n",
      "loss = 530.181818181818\n",
      "sklearn\n",
      "m = 5.90909090909091 \n",
      "b = -18.000000000000007 \n",
      "loss = 530.1818181818182\n"
     ]
    },
    {
     "data": {
      "text/plain": [
       "[<matplotlib.lines.Line2D at 0x7fed06e37580>]"
      ]
     },
     "execution_count": 4,
     "metadata": {},
     "output_type": "execute_result"
    },
    {
     "data": {
      "image/png": "[encoded data removed]",
      "text/plain": [
       "<Figure size 432x288 with 1 Axes>"
      ]
     },
     "metadata": {
      "needs_background": "light"
     },
     "output_type": "display_data"
    }
   ],
   "source": [
    "N = len(data)\n",
    "E_x = np.mean(data[:,0])\n",
    "E_y = np.mean(data[:,1])\n",
    "E_y2= np.mean(data[:,1]**2)\n",
    "E_xy = np.mean(data[:,0]*data[:,1])\n",
    "E_x2 = np.mean(data[:,0]**2)\n",
    "m = (E_x*E_y-E_xy)/(E_x**2-E_x2)\n",
    "b = E_y-m*E_x\n",
    "# L2 loss, math does not support L1 loss without storing datapoints\n",
    "loss = E_y2 - 2 * (m * E_xy + b * E_y) + m**2 * E_x2 + 2 * m * b * E_x + b**2\n",
    "print('math\\nm =', m, '\\nb =', b, '\\nloss =', loss)\n",
    "model = LinearRegression().fit(X=data[:,0].reshape(-1, 1),y=data[:,1].reshape(-1, 1))\n",
    "model_m = model.coef_[0][0]\n",
    "model_b = model.intercept_[0]\n",
    "model_loss = mean_squared_error(model.predict(X=data[:,0].reshape(-1, 1)), data[:,1].reshape(-1, 1))\n",
    "print('sklearn\\nm =', model_m, '\\nb =', model_b, '\\nloss =', model_loss)\n",
    "plt.scatter(x=data[:,0],y=data[:,1])\n",
    "plt.plot(m*np.linspace(0,len(data),len(data)+1)+b)"
   ]
  },
  {
   "cell_type": "code",
   "execution_count": 5,
   "metadata": {},
   "outputs": [
    {
     "name": "stdout",
     "output_type": "stream",
     "text": [
      "math\n",
      "m = 3.2584530707525315e-05 \n",
      "b = 49.296823321059826 \n",
      "loss = 845.9371032096656\n",
      "sklearn\n",
      "m = 3.258453070752187e-05 \n",
      "b = 49.296823321059854 \n",
      "loss = 845.9371032096556\n"
     ]
    }
   ],
   "source": [
    "# O(N) runtime algorithm to constantly update linear regression on adding data points\n",
    "# only requires constant space to store E_x E_y E_xy E_x2 E_y2\n",
    "# can also delete data points\n",
    "# E_x = E_x*N/(N-1) - delete_x*1/(N-1)\n",
    "import math\n",
    "from random import random\n",
    "for i in range(11,10000):\n",
    "    N = i-1 # old N\n",
    "    new_x = i\n",
    "    new_y = math.floor(random()*100+i/50000)\n",
    "    data_arr.append((new_x,new_y))\n",
    "    data = np.array(data_arr)\n",
    "    E_x = E_x*N/(N+1) + new_x*1/(N+1)\n",
    "    E_y = E_y*N/(N+1) + new_y*1/(N+1)\n",
    "    E_xy = E_xy*N/(N+1) + new_x*new_y*1/(N+1)\n",
    "    E_x2 = E_x2*N/(N+1) + new_x*new_x*1/(N+1)\n",
    "    E_y2 = E_y2*N/(N+1) + new_y*new_y*1/(N+1)\n",
    "    m = (E_x*E_y-E_xy)/(E_x**2-E_x2)\n",
    "    b = E_y-m*E_x\n",
    "    loss = E_y2 - 2 * (m * E_xy + b * E_y) + m**2 * E_x2 + 2 * m * b * E_x + b**2\n",
    "print('math\\nm =', m, '\\nb =', b, '\\nloss =', loss)\n",
    "\n",
    "model = LinearRegression().fit(X=data[:,0].reshape(-1, 1),y=data[:,1].reshape(-1, 1))\n",
    "model_m = model.coef_[0][0]\n",
    "model_b = model.intercept_[0]\n",
    "model_loss = mean_squared_error(model.predict(X=data[:,0].reshape(-1, 1)), data[:,1].reshape(-1, 1))\n",
    "print('sklearn\\nm =', model_m, '\\nb =', model_b, '\\nloss =', model_loss)"
   ]
  }
 ],
 "metadata": {
  "kernelspec": {
   "display_name": "Python 3",
   "language": "python",
   "name": "python3"
  },
  "language_info": {
   "codemirror_mode": {
    "name": "ipython",
    "version": 3
   },
   "file_extension": ".py",
   "mimetype": "text/x-python",
   "name": "python",
   "nbconvert_exporter": "python",
   "pygments_lexer": "ipython3",
   "version": "3.8.10"
  }
 },
 "nbformat": 4,
 "nbformat_minor": 4
}
